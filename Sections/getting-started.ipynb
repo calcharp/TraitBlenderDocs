{
  "cells": [
    {
      "cell_type": "raw",
      "metadata": {},
      "source": [
        "---\n",
        "title: \"Getting Started\"\n",
        "page-layout: full\n",
        "---"
      ],
      "id": "2a7550c3"
    },
    {
      "cell_type": "markdown",
      "metadata": {},
      "source": [
        "# Getting Started \n",
        "\n",
        "TraitBlender is implemented as an addon to the 3D modeling software Blender, \n",
        "which can be installed [here](https://www.blender.org/download/). Once Blender \n",
        "is installed, the TraitBlender addon can be installed via the zip file available \n",
        "in the [Imageomics Repository](https://github.com/Imageomics/TraitBlender). \n",
        "\n",
        "To install TraitBlender via the Blender GUI, open Blender, and navigate to \n",
        "`Edit -> Preferences...`, located in the top left corner of the screen. Once \n",
        "in the Preferences menu, click `Add-ons -> Install...`, and find the TraitBlender.zip \n",
        "file you downloaded. Click `Install Add-on`, and navigate to the Testing tab in the \n",
        "Add-ons menu. Click the check box to the left of `User Interface: TraitBlender`. \n",
        "TraitBlender is now installed and enabled.\n",
        "\n",
        "To install TraitBlender via command line, you must create an intermediate Python file with this text\n"
      ],
      "id": "53a04220"
    },
    {
      "cell_type": "code",
      "metadata": {},
      "source": [
        "# import bpy\n",
        "# bpy.ops.preferences.addon_install(filepath=\"/src/TraitBlender/TraitBlender.zip\")"
      ],
      "id": "93456ee6",
      "execution_count": null,
      "outputs": []
    }
  ],
  "metadata": {
    "kernelspec": {
      "name": "torch_kernel",
      "language": "python",
      "display_name": "torch_kernel"
    }
  },
  "nbformat": 4,
  "nbformat_minor": 5
}